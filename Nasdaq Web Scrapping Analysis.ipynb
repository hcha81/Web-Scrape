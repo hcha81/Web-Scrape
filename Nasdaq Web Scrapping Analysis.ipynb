{
 "cells": [
  {
   "cell_type": "code",
   "execution_count": 4,
   "metadata": {},
   "outputs": [],
   "source": [
    "import plotly.plotly as py\n",
    "import plotly.graph_objs as go\n",
    "import pandas as pd\n",
    "import numpy as np\n",
    "py.sign_in(username='hcha81', api_key='pS5H3n5pOrl6w7YO7PHk')\n"
   ]
  },
  {
   "cell_type": "code",
   "execution_count": 6,
   "metadata": {},
   "outputs": [
    {
     "name": "stdout",
     "output_type": "stream",
     "text": [
      "                             Company Symbol        Date ShortInterest  \\\n",
      "0      Facebook, Inc. Short Interest     fb   7/13/2018    24,296,950   \n",
      "1      Facebook, Inc. Short Interest     fb   6/29/2018    25,329,289   \n",
      "2      Facebook, Inc. Short Interest     fb   6/15/2018    28,567,971   \n",
      "3      Facebook, Inc. Short Interest     fb   5/31/2018    27,722,131   \n",
      "4      Facebook, Inc. Short Interest     fb   5/15/2018    29,161,328   \n",
      "5      Facebook, Inc. Short Interest     fb   4/30/2018    28,031,621   \n",
      "6      Facebook, Inc. Short Interest     fb   4/13/2018    32,081,266   \n",
      "7      Facebook, Inc. Short Interest     fb   3/29/2018    29,902,968   \n",
      "8      Facebook, Inc. Short Interest     fb   3/15/2018    26,886,074   \n",
      "9      Facebook, Inc. Short Interest     fb   2/28/2018    26,111,653   \n",
      "10     Facebook, Inc. Short Interest     fb   2/15/2018    25,363,070   \n",
      "11     Facebook, Inc. Short Interest     fb   1/31/2018    22,647,815   \n",
      "12     Facebook, Inc. Short Interest     fb   1/12/2018    25,059,215   \n",
      "13     Facebook, Inc. Short Interest     fb  12/29/2017    23,305,170   \n",
      "14     Facebook, Inc. Short Interest     fb  12/15/2017    22,122,653   \n",
      "15     Facebook, Inc. Short Interest     fb  11/30/2017    19,593,264   \n",
      "16     Facebook, Inc. Short Interest     fb  11/15/2017    21,718,895   \n",
      "17     Facebook, Inc. Short Interest     fb  10/31/2017    21,198,152   \n",
      "18     Facebook, Inc. Short Interest     fb  10/13/2017    20,536,454   \n",
      "19     Facebook, Inc. Short Interest     fb   9/29/2017    21,805,852   \n",
      "20     Facebook, Inc. Short Interest     fb   9/15/2017    23,316,961   \n",
      "21     Facebook, Inc. Short Interest     fb   8/31/2017    21,437,070   \n",
      "22     Facebook, Inc. Short Interest     fb   8/15/2017    21,057,833   \n",
      "23   Amazon.com, Inc. Short Interest   amzn   7/13/2018     4,178,272   \n",
      "24   Amazon.com, Inc. Short Interest   amzn   6/29/2018     4,275,338   \n",
      "25   Amazon.com, Inc. Short Interest   amzn   6/15/2018     5,050,742   \n",
      "26   Amazon.com, Inc. Short Interest   amzn   5/31/2018     4,938,891   \n",
      "27   Amazon.com, Inc. Short Interest   amzn   5/15/2018     5,347,642   \n",
      "28   Amazon.com, Inc. Short Interest   amzn   4/30/2018     5,503,670   \n",
      "29   Amazon.com, Inc. Short Interest   amzn   4/13/2018     4,561,186   \n",
      "..                               ...    ...         ...           ...   \n",
      "85      Netflix, Inc. Short Interest   nflx  11/15/2017    27,322,936   \n",
      "86      Netflix, Inc. Short Interest   nflx  10/31/2017    27,004,896   \n",
      "87      Netflix, Inc. Short Interest   nflx  10/13/2017    26,431,438   \n",
      "88      Netflix, Inc. Short Interest   nflx   9/29/2017    26,579,419   \n",
      "89      Netflix, Inc. Short Interest   nflx   9/15/2017    29,642,691   \n",
      "90      Netflix, Inc. Short Interest   nflx   8/31/2017    28,425,659   \n",
      "91      Netflix, Inc. Short Interest   nflx   8/15/2017    27,124,105   \n",
      "92      Alphabet Inc. Short Interest   goog   7/13/2018     2,618,112   \n",
      "93      Alphabet Inc. Short Interest   goog   6/29/2018     2,587,631   \n",
      "94      Alphabet Inc. Short Interest   goog   6/15/2018     2,715,359   \n",
      "95      Alphabet Inc. Short Interest   goog   5/31/2018     2,827,693   \n",
      "96      Alphabet Inc. Short Interest   goog   5/15/2018     3,113,635   \n",
      "97      Alphabet Inc. Short Interest   goog   4/30/2018     2,571,952   \n",
      "98      Alphabet Inc. Short Interest   goog   4/13/2018     2,615,420   \n",
      "99      Alphabet Inc. Short Interest   goog   3/29/2018     3,647,002   \n",
      "100     Alphabet Inc. Short Interest   goog   3/15/2018     3,626,266   \n",
      "101     Alphabet Inc. Short Interest   goog   2/28/2018     3,543,226   \n",
      "102     Alphabet Inc. Short Interest   goog   2/15/2018     3,470,235   \n",
      "103     Alphabet Inc. Short Interest   goog   1/31/2018     3,158,270   \n",
      "104     Alphabet Inc. Short Interest   goog   1/12/2018     3,715,799   \n",
      "105     Alphabet Inc. Short Interest   goog  12/29/2017     3,747,634   \n",
      "106     Alphabet Inc. Short Interest   goog  12/15/2017     3,887,789   \n",
      "107     Alphabet Inc. Short Interest   goog  11/30/2017     3,814,137   \n",
      "108     Alphabet Inc. Short Interest   goog  11/15/2017     3,653,875   \n",
      "109     Alphabet Inc. Short Interest   goog  10/31/2017     3,601,535   \n",
      "110     Alphabet Inc. Short Interest   goog  10/13/2017     3,508,859   \n",
      "111     Alphabet Inc. Short Interest   goog   9/29/2017     3,366,320   \n",
      "112     Alphabet Inc. Short Interest   goog   9/15/2017     3,766,508   \n",
      "113     Alphabet Inc. Short Interest   goog   8/31/2017     3,800,008   \n",
      "114     Alphabet Inc. Short Interest   goog   8/15/2017     3,562,624   \n",
      "\n",
      "         Volume  DaysToCover  \n",
      "0    15,318,436     1.586125  \n",
      "1    19,738,504     1.283243  \n",
      "2    17,288,428     1.652433  \n",
      "3    15,636,140     1.772952  \n",
      "4    20,820,465     1.400609  \n",
      "5    30,347,565     1.000000  \n",
      "6    42,040,438     1.000000  \n",
      "7    80,202,355     1.000000  \n",
      "8    17,746,070     1.515044  \n",
      "9    19,390,722     1.346606  \n",
      "10   32,888,647     1.000000  \n",
      "11   25,447,824     1.000000  \n",
      "12   21,173,631     1.183511  \n",
      "13   11,670,416     1.996944  \n",
      "14   19,288,463     1.146937  \n",
      "15   16,696,250     1.173513  \n",
      "16   16,750,664     1.296599  \n",
      "17   16,308,550     1.299818  \n",
      "18   12,283,800     1.671832  \n",
      "19   17,302,858     1.260246  \n",
      "20   13,181,100     1.768969  \n",
      "21   13,007,531     1.648051  \n",
      "22   12,445,398     1.692018  \n",
      "23    3,234,710     1.291699  \n",
      "24    4,665,027     1.000000  \n",
      "25    3,579,228     1.411126  \n",
      "26    2,894,647     1.706215  \n",
      "27    3,618,486     1.477867  \n",
      "28    6,478,205     1.000000  \n",
      "29    5,892,532     1.000000  \n",
      "..          ...          ...  \n",
      "85    4,883,599     5.594836  \n",
      "86    9,489,017     2.845911  \n",
      "87    9,478,468     2.788577  \n",
      "88    5,656,387     4.699010  \n",
      "89    5,487,208     5.402145  \n",
      "90    5,694,152     4.992079  \n",
      "91    6,202,780     4.372895  \n",
      "92    1,026,623     2.550218  \n",
      "93    1,464,590     1.766795  \n",
      "94    1,587,551     1.710407  \n",
      "95    1,330,386     2.125468  \n",
      "96    1,564,386     1.990324  \n",
      "97    2,125,391     1.210108  \n",
      "98    1,840,731     1.420859  \n",
      "99    2,628,843     1.387303  \n",
      "100   1,740,111     2.083928  \n",
      "101   1,551,445     2.283823  \n",
      "102   2,724,874     1.273540  \n",
      "103   1,507,938     2.094430  \n",
      "104   1,182,581     3.142110  \n",
      "105   1,074,503     3.487784  \n",
      "106   1,681,610     2.311945  \n",
      "107   1,277,684     2.985196  \n",
      "108   1,044,598     3.497877  \n",
      "109   1,695,966     2.123589  \n",
      "110   1,149,744     3.051861  \n",
      "111   1,462,108     2.302374  \n",
      "112   1,345,474     2.799391  \n",
      "113   1,194,081     3.182370  \n",
      "114   1,241,164     2.870389  \n",
      "\n",
      "[115 rows x 6 columns]\n"
     ]
    },
    {
     "data": {
      "text/plain": [
       "RangeIndex(start=0, stop=115, step=1)"
      ]
     },
     "execution_count": 6,
     "metadata": {},
     "output_type": "execute_result"
    }
   ],
   "source": [
    "nasdaq_df=pd.read_csv('nasdaq.csv')\n",
    "print(nasdaq_df)\n",
    "nasdaq_df.index"
   ]
  },
  {
   "cell_type": "code",
   "execution_count": 7,
   "metadata": {},
   "outputs": [],
   "source": [
    "df_fb = nasdaq_df[nasdaq_df['Symbol']=='fb']\n",
    "df_amzn = nasdaq_df[nasdaq_df['Symbol']=='amzn']\n",
    "df_aapl = nasdaq_df[nasdaq_df['Symbol']=='aapl']\n",
    "df_nflx = nasdaq_df[nasdaq_df['Symbol']=='nflx']\n",
    "df_goog = nasdaq_df[nasdaq_df['Symbol']=='goog']"
   ]
  },
  {
   "cell_type": "code",
   "execution_count": null,
   "metadata": {},
   "outputs": [],
   "source": []
  },
  {
   "cell_type": "code",
   "execution_count": 8,
   "metadata": {},
   "outputs": [
    {
     "data": {
      "text/html": [
       "<iframe id=\"igraph\" scrolling=\"no\" style=\"border:none;\" seamless=\"seamless\" src=\"https://plot.ly/~hcha81/20.embed\" height=\"525px\" width=\"100%\"></iframe>"
      ],
      "text/plain": [
       "<plotly.tools.PlotlyDisplay object>"
      ]
     },
     "execution_count": 8,
     "metadata": {},
     "output_type": "execute_result"
    }
   ],
   "source": [
    "# Create line graph of FAANG Days to Cover\n",
    "trace0 = go.Scatter(\n",
    "    x = df_fb['Date'],\n",
    "    y = df_fb['DaysToCover'],\n",
    "    mode = 'lines',\n",
    "    name = 'Facebook'\n",
    ")\n",
    "\n",
    "trace1 = go.Scatter(\n",
    "    x = df_amzn['Date'],\n",
    "    y = df_amzn['DaysToCover'],\n",
    "    mode = 'lines',\n",
    "    name = 'Amazon'\n",
    ")\n",
    "\n",
    "trace2 = go.Scatter(\n",
    "    x = df_aapl['Date'],\n",
    "    y = df_aapl['DaysToCover'],\n",
    "    mode = 'lines',\n",
    "    name = 'Apple'\n",
    ")\n",
    "\n",
    "trace3 = go.Scatter(\n",
    "    x = df_nflx['Date'],\n",
    "    y = df_nflx['DaysToCover'],\n",
    "    mode = 'lines',\n",
    "    name = 'Netflix'\n",
    ")\n",
    "\n",
    "trace4 = go.Scatter(\n",
    "    x = df_goog['Date'],\n",
    "    y = df_goog['DaysToCover'],\n",
    "    mode = 'lines',\n",
    "    name = 'Google'\n",
    ")\n",
    "\n",
    "data = [trace0, trace1, trace2, trace3, trace4]\n",
    "\n",
    "layout = dict(title = 'FAANG stocks Days to Cover ',\n",
    "              xaxis = dict(title = 'Date'),\n",
    "              yaxis = dict(title = 'Number of Days to Cover'),\n",
    "              )\n",
    "\n",
    "fig = dict(data=data, layout=layout)\n",
    "py.iplot(fig,filename='web scrape - days to cover')"
   ]
  },
  {
   "cell_type": "code",
   "execution_count": 5,
   "metadata": {},
   "outputs": [
    {
     "name": "stdout",
     "output_type": "stream",
     "text": [
      "  Symbol  Buys3m  Sells3m NetActvity3mInsiders  Buys12m  Sells12m  \\\n",
      "0     fb      75      104            3,827,467      195       293   \n",
      "1   amzn       1        9             (16,045)        5        66   \n",
      "2   aapl       0       13            (148,211)        5        64   \n",
      "3   nflx       0       44            (449,457)        3       134   \n",
      "4   goog      19       31            (124,901)       64       119   \n",
      "\n",
      "  NetActivity12mInsiders NetActivityAll  \n",
      "0            (2,088,684)     54,132,472  \n",
      "1            (1,091,321)    (7,519,846)  \n",
      "2            (2,233,451)   (92,854,726)  \n",
      "3            (3,267,066)   (18,271,522)  \n",
      "4              (538,397)        477,588  \n"
     ]
    },
    {
     "data": {
      "text/plain": [
       "RangeIndex(start=0, stop=5, step=1)"
      ]
     },
     "execution_count": 5,
     "metadata": {},
     "output_type": "execute_result"
    }
   ],
   "source": [
    "insider_df=pd.read_csv('insider.csv')\n",
    "print(insider_df)\n",
    "insider_df.index"
   ]
  },
  {
   "cell_type": "code",
   "execution_count": 15,
   "metadata": {},
   "outputs": [
    {
     "data": {
      "text/html": [
       "<iframe id=\"igraph\" scrolling=\"no\" style=\"border:none;\" seamless=\"seamless\" src=\"https://plot.ly/~hcha81/22.embed\" height=\"525px\" width=\"100%\"></iframe>"
      ],
      "text/plain": [
       "<plotly.tools.PlotlyDisplay object>"
      ]
     },
     "execution_count": 15,
     "metadata": {},
     "output_type": "execute_result"
    }
   ],
   "source": [
    "trace5 = go.Bar(\n",
    "    x=insider_df['Symbol'],\n",
    "    y=insider_df['Buys3m'],\n",
    "    name='Buys 3m'\n",
    ")\n",
    "trace6 = go.Bar(\n",
    "    x=insider_df['Symbol'],\n",
    "    y=insider_df['Sells3m'],\n",
    "    name='Sells 3m'\n",
    ")\n",
    "\n",
    "trace7 = go.Bar(\n",
    "    x=insider_df['Symbol'],\n",
    "    y=insider_df['Buys12m'],\n",
    "    name='Buys 12m'\n",
    ")\n",
    "\n",
    "trace8 = go.Bar(\n",
    "    x=insider_df['Symbol'],\n",
    "    y=insider_df['Sells12m'],\n",
    "    name='Sells 12m'\n",
    ")\n",
    "\n",
    "data2 = [trace5, trace6, trace7, trace8]\n",
    "layout2 = go.Layout(\n",
    "    barmode='group',\n",
    "    title='FAANG Insider Buys/Sells during 3m and 12m period',\n",
    "    xaxis = dict(title = 'Stock Symbols'),\n",
    "    yaxis = dict(title = 'Number of Buys/Sells'))\n",
    "\n",
    "fig2 = go.Figure(data=data2, layout=layout2)\n",
    "\n",
    "py.iplot(fig2, filename='insider buys sells - bar graph')"
   ]
  },
  {
   "cell_type": "code",
   "execution_count": 16,
   "metadata": {},
   "outputs": [
    {
     "name": "stdout",
     "output_type": "stream",
     "text": [
      "  Symbol  Buys3m  Sells3m NetActvity3mInsiders  Buys12m  Sells12m  \\\n",
      "0     fb      75      104            3,827,467      195       293   \n",
      "1   amzn       1        9              -16,045        5        66   \n",
      "2   aapl       0       13             -148,211        5        64   \n",
      "3   nflx       0       44             -449,457        3       134   \n",
      "4   goog      19       31             -124,901       64       119   \n",
      "\n",
      "  NetActivity12mInsiders NetActivityAll  \n",
      "0             -2,088,684     54,132,472  \n",
      "1             -1,091,321     -7,519,846  \n",
      "2             -2,233,451    -92,854,726  \n",
      "3             -3,267,066    -18,271,522  \n",
      "4               -538,397        477,588  \n"
     ]
    },
    {
     "data": {
      "text/html": [
       "<iframe id=\"igraph\" scrolling=\"no\" style=\"border:none;\" seamless=\"seamless\" src=\"https://plot.ly/~hcha81/27.embed\" height=\"525px\" width=\"100%\"></iframe>"
      ],
      "text/plain": [
       "<plotly.tools.PlotlyDisplay object>"
      ]
     },
     "execution_count": 16,
     "metadata": {},
     "output_type": "execute_result"
    }
   ],
   "source": [
    "insider_df.NetActvity3mInsiders = list(map(lambda s: s.replace('(','-'), insider_df.NetActvity3mInsiders)) \n",
    "insider_df.NetActvity3mInsiders = list(map(lambda s: s.replace(')',''), insider_df.NetActvity3mInsiders)) \n",
    "insider_df.NetActivity12mInsiders = list(map(lambda s: s.replace('(','-'), insider_df.NetActivity12mInsiders)) \n",
    "insider_df.NetActivity12mInsiders = list(map(lambda s: s.replace(')',''), insider_df.NetActivity12mInsiders))\n",
    "insider_df.NetActivityAll = list(map(lambda s: s.replace('(','-'), insider_df.NetActivityAll)) \n",
    "insider_df.NetActivityAll = list(map(lambda s: s.replace(')',''), insider_df.NetActivityAll))\n",
    "print(insider_df)\n",
    "\n",
    "trace10 = go.Bar(\n",
    "    x= insider_df['NetActvity3mInsiders'],\n",
    "    y= insider_df['Symbol'],\n",
    "    name ='NetActivity3m: Insiders',\n",
    "    orientation = 'h'\n",
    ")\n",
    "\n",
    "trace12 = go.Bar(\n",
    "    x=insider_df['NetActivity12mInsiders'],\n",
    "    y=insider_df['Symbol'],\n",
    "    name='NetActivity12m: Insiders',\n",
    "    orientation = 'h'\n",
    ")\n",
    "\n",
    "trace13 = go.Bar(\n",
    "    x=insider_df['NetActivityAll'],\n",
    "    y=insider_df['Symbol'],\n",
    "    name='NetActivity: All',\n",
    "    orientation = 'h'\n",
    ")\n",
    "\n",
    "\n",
    "data3 = [trace10, trace12, trace13]\n",
    "layout3 = go.Layout(\n",
    "    barmode='group',\n",
    "    title='FAANG Net Activity',\n",
    "    xaxis = dict(title = 'Net Activity'),\n",
    "    yaxis = dict(title = 'Stock Symbols'))\n",
    "\n",
    "fig3 = go.Figure(data=data3, layout=layout3)\n",
    "\n",
    "py.iplot(fig3, filename='net activity - bar graph')"
   ]
  },
  {
   "cell_type": "code",
   "execution_count": null,
   "metadata": {},
   "outputs": [],
   "source": []
  },
  {
   "cell_type": "code",
   "execution_count": null,
   "metadata": {},
   "outputs": [],
   "source": []
  },
  {
   "cell_type": "code",
   "execution_count": null,
   "metadata": {},
   "outputs": [],
   "source": []
  }
 ],
 "metadata": {
  "kernelspec": {
   "display_name": "Python 3",
   "language": "python",
   "name": "python3"
  },
  "language_info": {
   "codemirror_mode": {
    "name": "ipython",
    "version": 3
   },
   "file_extension": ".py",
   "mimetype": "text/x-python",
   "name": "python",
   "nbconvert_exporter": "python",
   "pygments_lexer": "ipython3",
   "version": "3.6.5"
  }
 },
 "nbformat": 4,
 "nbformat_minor": 2
}
